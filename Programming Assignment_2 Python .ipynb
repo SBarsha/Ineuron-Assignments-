{
 "cells": [
  {
   "cell_type": "code",
   "execution_count": 12,
   "metadata": {},
   "outputs": [
    {
     "name": "stdout",
     "output_type": "stream",
     "text": [
      "enter the value in kilometer:50\n",
      "The conversion result is : 31.0685\n"
     ]
    }
   ],
   "source": [
    "#1.Write a Python program to convert kilometers to miles?\n",
    "#1kilometer=0.62137 miles\n",
    "kilometer=float(input(\"enter the value in kilometer:\"))\n",
    "value=0.62137\n",
    "miles=kilometer*value\n",
    "print(\"The conversion result is :\",miles)\n"
   ]
  },
  {
   "cell_type": "code",
   "execution_count": 13,
   "metadata": {},
   "outputs": [
    {
     "name": "stdout",
     "output_type": "stream",
     "text": [
      "Enter temperature in celsius: 88\n",
      "the conversion value in fahrenheit is  : 190.4\n"
     ]
    }
   ],
   "source": [
    "#2.Write a Python program to convert Celsius to Fahrenheit?\n",
    "Celsius = float(input(\"Enter temperature in celsius: \"))\n",
    "Fahrenheit = (Celsius * 9/5) + 32    \n",
    "print(\"the conversion value in fahrenheit is  :\",Fahrenheit)       "
   ]
  },
  {
   "cell_type": "code",
   "execution_count": 14,
   "metadata": {},
   "outputs": [
    {
     "name": "stdout",
     "output_type": "stream",
     "text": [
      "enter a year:2023\n",
      "enter a month:03\n",
      "     March 2023\n",
      "Mo Tu We Th Fr Sa Su\n",
      "       1  2  3  4  5\n",
      " 6  7  8  9 10 11 12\n",
      "13 14 15 16 17 18 19\n",
      "20 21 22 23 24 25 26\n",
      "27 28 29 30 31\n",
      "\n"
     ]
    }
   ],
   "source": [
    "#3.Write a Python program to display calendar?\n",
    "import calendar\n",
    "year = int(input(\"enter a year:\"))\n",
    "month = int(input(\"enter a month:\"))\n",
    "print(calendar.month(year, month))\n"
   ]
  },
  {
   "cell_type": "code",
   "execution_count": 15,
   "metadata": {},
   "outputs": [
    {
     "name": "stdout",
     "output_type": "stream",
     "text": [
      "Solve the quadratic equation: ax**2 + bx + c = 0\n",
      "Please enter a : 3\n",
      "Please enter b : 6\n",
      "Please enter c : 3\n",
      "The solutions are (-1+0j) and (-1+0j)\n"
     ]
    }
   ],
   "source": [
    "#4. Write a Python program to solve quadratic equation?\n",
    "import cmath\n",
    "print('Solve the quadratic equation: ax**2 + bx + c = 0')\n",
    "a = float(input('Please enter a : '))\n",
    "b = float(input('Please enter b : '))\n",
    "c = float(input('Please enter c : '))\n",
    "delta= (b**2) - (4*a*c)\n",
    "solution1 = (-b-cmath.sqrt(delta))/(2*a)\n",
    "solution2 = (-b+cmath.sqrt(delta))/(2*a)\n",
    "print('The solutions are {0} and {1}'.format(solution1,solution2))\n",
    "\n"
   ]
  },
  {
   "cell_type": "code",
   "execution_count": 16,
   "metadata": {},
   "outputs": [
    {
     "name": "stdout",
     "output_type": "stream",
     "text": [
      "enter first number:39\n",
      "enter second number:44\n",
      "var1=  44\n",
      "var2=  39\n"
     ]
    }
   ],
   "source": [
    "#5.Write a Python program to swap two variables without temp variable?\n",
    "var1=int(input(\"enter first number:\"))\n",
    "     \n",
    "var2=int(input(\"enter second number:\"))\n",
    "\n",
    "var1,var2 = var2, var1\n",
    "print(\"var1= \",var1)\n",
    "print(\"var2= \",var2)"
   ]
  }
 ],
 "metadata": {
  "kernelspec": {
   "display_name": "Python 3",
   "language": "python",
   "name": "python3"
  },
  "language_info": {
   "codemirror_mode": {
    "name": "ipython",
    "version": 3
   },
   "file_extension": ".py",
   "mimetype": "text/x-python",
   "name": "python",
   "nbconvert_exporter": "python",
   "pygments_lexer": "ipython3",
   "version": "3.7.3"
  }
 },
 "nbformat": 4,
 "nbformat_minor": 2
}
