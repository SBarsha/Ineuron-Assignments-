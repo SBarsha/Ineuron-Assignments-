{
 "cells": [
  {
   "cell_type": "markdown",
   "metadata": {},
   "source": [
    "## Programming Assignment_1\n",
    "-------------"
   ]
  },
  {
   "cell_type": "markdown",
   "metadata": {},
   "source": [
    "### 1. Write a Python program to print \"Hello Python\"?"
   ]
  },
  {
   "cell_type": "code",
   "execution_count": 1,
   "metadata": {},
   "outputs": [
    {
     "name": "stdout",
     "output_type": "stream",
     "text": [
      "Hello Python\n"
     ]
    }
   ],
   "source": [
    "a=\"Hello Python\"\n",
    "print(a)"
   ]
  },
  {
   "cell_type": "markdown",
   "metadata": {},
   "source": [
    "### 2. Write a Python program to do arithmetical operations addition and division.?\n"
   ]
  },
  {
   "cell_type": "code",
   "execution_count": 19,
   "metadata": {},
   "outputs": [
    {
     "name": "stdout",
     "output_type": "stream",
     "text": [
      "enter first number:20\n",
      "enter second number:10\n",
      "addition of a and b is : 30\n",
      "divion of a and b is: 2.0\n"
     ]
    }
   ],
   "source": [
    "a=int(input(\"enter first number:\"))\n",
    "b=int(input(\"enter second number:\"))\n",
    "add=a+b;\n",
    "print(\"addition of a and b is :\",add)\n",
    "div=a/b;\n",
    "print(\"divion of a and b is:\",div)\n",
    "      \n",
    "\n",
    "\n",
    "\n",
    "      \n",
    "\n",
    "      "
   ]
  },
  {
   "cell_type": "markdown",
   "metadata": {},
   "source": [
    "### 3. Write a Python program to find the area of a triangle?\n"
   ]
  },
  {
   "cell_type": "code",
   "execution_count": 20,
   "metadata": {},
   "outputs": [
    {
     "name": "stdout",
     "output_type": "stream",
     "text": [
      "Enter the 1st side of a triangle:30\n",
      "Enter the 2nd side  of a triangle:40\n",
      "Enter the 3rd side  of a triangle:50\n",
      "The area of the triangle is: 600.0\n"
     ]
    }
   ],
   "source": [
    "a = float(input('Enter the 1st side of a triangle:'))\n",
    "b = float(input('Enter the 2nd side  of a triangle:'))\n",
    "c = float(input('Enter the 3rd side  of a triangle:'))\n",
    "\n",
    "x= (a + b + c) / 2  ##semi-perimeter\n",
    "\n",
    "area = (x*(x-a)*(x-b)*(x-c)) ** 0.5\n",
    "\n",
    "print('The area of the triangle is:',area)"
   ]
  },
  {
   "cell_type": "markdown",
   "metadata": {},
   "source": [
    "### 4. Write a Python program to swap two variables?\n"
   ]
  },
  {
   "cell_type": "code",
   "execution_count": 21,
   "metadata": {},
   "outputs": [
    {
     "name": "stdout",
     "output_type": "stream",
     "text": [
      "enter first number:50\n",
      "enter second number:70\n",
      "var1=  70\n",
      "var2=  50\n"
     ]
    }
   ],
   "source": [
    "var1=int(input(\"enter first number:\"))\n",
    "     \n",
    "var2=int(input(\"enter second number:\"))\n",
    "\n",
    "var1,var2 = var2, var1\n",
    "print(\"var1= \",var1)\n",
    "print(\"var2= \",var2)"
   ]
  },
  {
   "cell_type": "markdown",
   "metadata": {},
   "source": [
    "### 5. Write a Python program to generate a random number?\n"
   ]
  },
  {
   "cell_type": "code",
   "execution_count": 25,
   "metadata": {},
   "outputs": [
    {
     "name": "stdout",
     "output_type": "stream",
     "text": [
      "0.14528566542592924\n"
     ]
    }
   ],
   "source": [
    "import random\n",
    "num = random.random()\n",
    "print(num)"
   ]
  },
  {
   "cell_type": "code",
   "execution_count": null,
   "metadata": {},
   "outputs": [],
   "source": []
  },
  {
   "cell_type": "code",
   "execution_count": null,
   "metadata": {},
   "outputs": [],
   "source": []
  }
 ],
 "metadata": {
  "kernelspec": {
   "display_name": "Python 3",
   "language": "python",
   "name": "python3"
  },
  "language_info": {
   "codemirror_mode": {
    "name": "ipython",
    "version": 3
   },
   "file_extension": ".py",
   "mimetype": "text/x-python",
   "name": "python",
   "nbconvert_exporter": "python",
   "pygments_lexer": "ipython3",
   "version": "3.7.3"
  }
 },
 "nbformat": 4,
 "nbformat_minor": 5
}
